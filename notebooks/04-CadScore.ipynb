{
 "cells": [
  {
   "cell_type": "markdown",
   "metadata": {},
   "source": [
    "# CAD Score\n",
    "\n",
    "CAD scores, both global and local will be saved as a `CASP*/decoys/<target_id>.cad.npz` file containing:\n",
    "- `decoys`: 1D array of decoy names\n",
    "- `global_cad`: 1D array of global scores\n",
    "- `local_cad`: 2D array of local scores of shape `num_decoys x seq_length`\n",
    "\n",
    "We use the \"AS\" version of CAD scores from [Voronota](https://kliment-olechnovic.github.io/voronota/):\n",
    "```bash\n",
    "wget -q -O - 'https://github.com/kliment-olechnovic/voronota/releases/download/v1.21.2744/voronota_1.21.2744.tar.gz' | tar xz\n",
    "```"
   ]
  },
  {
   "cell_type": "code",
   "execution_count": 1,
   "metadata": {},
   "outputs": [],
   "source": [
    "from pathlib import Path\n",
    "\n",
    "import numpy as np\n",
    "import pandas as pd\n",
    "\n",
    "from loguru import logger\n",
    "from joblib import Parallel, delayed\n",
    "\n",
    "from graphqa.data.aminoacids import *\n",
    "from graphqa.data.cadscore import run_cadscore, CadScoreError"
   ]
  },
  {
   "cell_type": "code",
   "execution_count": 2,
   "metadata": {},
   "outputs": [
    {
     "name": "stdout",
     "output_type": "stream",
     "text": [
      "zsh:1: no matches found: CASP*/decoys/*.cad.npz\n"
     ]
    }
   ],
   "source": [
    "! rm CASP*/decoys/*.cad.npz"
   ]
  },
  {
   "cell_type": "code",
   "execution_count": 3,
   "metadata": {},
   "outputs": [],
   "source": [
    "df_natives = pd.read_csv(\"natives_casp.csv\")\n",
    "target_lengths = pd.read_csv(\"sequences.csv\").set_index(\"target_id\")[\"length\"].to_dict()"
   ]
  },
  {
   "cell_type": "code",
   "execution_count": null,
   "metadata": {},
   "outputs": [],
   "source": [
    "@logger.catch(reraise=False)\n",
    "def compute_and_save_cad(\n",
    "    native_path: str, decoys_dir: str, output_path: str, sequence_length: int\n",
    "):\n",
    "    try:\n",
    "        run_cadscore(\n",
    "            native_path, decoys_dir, output_path, sequence_length,\n",
    "            voronota=\"voronota_1.21.2744/voronota-cadscore\"\n",
    "        )\n",
    "    except CadScoreError as e:\n",
    "        logger.warning(e)\n",
    "\n",
    "\n",
    "with Parallel(n_jobs=30, verbose=1, prefer=\"threads\") as pool:\n",
    "    missing_targets = [\n",
    "        dict(\n",
    "            native_path=f\"CASP{target.casp_ed}/native/{target.target_id}.pdb\",\n",
    "            decoys_dir=f\"CASP{target.casp_ed}/decoys/{target.target_id}\",\n",
    "            output_path=f\"CASP{target.casp_ed}/decoys/{target.target_id}.cad.npz\",\n",
    "            sequence_length=target_lengths[target.target_id],\n",
    "        )\n",
    "        for target in df_natives.itertuples()\n",
    "        if not Path(f\"CASP{target.casp_ed}/decoys/{target.target_id}.cad.npz\").is_file()\n",
    "    ]\n",
    "    logger.info(f\"Running on {len(missing_targets)} targets\")\n",
    "    pool(\n",
    "        delayed(compute_and_save_cad)(**target_dict) for target_dict in missing_targets\n",
    "    )"
   ]
  },
  {
   "cell_type": "code",
   "execution_count": 6,
   "metadata": {},
   "outputs": [
    {
     "name": "stderr",
     "output_type": "stream",
     "text": [
      "2020-09-21 22:40:19.602 | WARNING  | __main__:<module>:10 - CAD score failed on 1 targets\n",
      "2020-09-21 22:40:19.603 | WARNING  | __main__:<module>:13 - CAD score failed on: T0825\n"
     ]
    }
   ],
   "source": [
    "pdb = set(p.with_suffix(\"\").name for p in Path().glob(\"CASP*/native/*.pdb\"))\n",
    "cad = set(\n",
    "    p.with_suffix(\"\").with_suffix(\"\").name\n",
    "    for p in Path().glob(\"CASP*/decoys/*.cad.npz\")\n",
    ")\n",
    "\n",
    "failed = pdb - cad\n",
    "\n",
    "if len(failed) > 0:\n",
    "    logger.warning(f\"CAD score failed on {len(failed)} targets\")\n",
    "    if len(failed) < 20:\n",
    "        for f in failed:\n",
    "            logger.warning(f\"CAD score failed on: {f}\")\n",
    "\n",
    "for p in Path().glob(\"CASP*/decoys/*.cad.npz\"):\n",
    "    count = len(np.load(p)[\"decoys\"])\n",
    "    if count < 20:\n",
    "        logger.warning(f\"{p} contains {count} decoys\")"
   ]
  }
 ],
 "metadata": {
  "jupytext": {
   "formats": "ipynb,py:percent"
  },
  "kernelspec": {
   "display_name": "Python 3",
   "language": "python",
   "name": "python3"
  },
  "language_info": {
   "codemirror_mode": {
    "name": "ipython",
    "version": 3
   },
   "file_extension": ".py",
   "mimetype": "text/x-python",
   "name": "python",
   "nbconvert_exporter": "python",
   "pygments_lexer": "ipython3",
   "version": "3.8.5"
  }
 },
 "nbformat": 4,
 "nbformat_minor": 4
}
