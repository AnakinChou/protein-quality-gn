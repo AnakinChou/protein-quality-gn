{
 "cells": [
  {
   "cell_type": "markdown",
   "metadata": {},
   "source": [
    "# CAD Score\n",
    "\n",
    "CAD scores, both global and local will be saved as a `CASP*/decoys/<target_id>.cad.npz` file containing:\n",
    "- `decoys`: 1D array of decoy names\n",
    "- `global_cad`: 1D array of global scores\n",
    "- `local_cad`: 2D array of local scores of shape `num_decoys x seq_length`\n",
    "\n",
    "We use the \"AS\" version of CAD scores from [Voronota](https://kliment-olechnovic.github.io/voronota/):\n",
    "```bash\n",
    "wget -q -O - 'https://github.com/kliment-olechnovic/voronota/releases/download/v1.21.2744/voronota_1.21.2744.tar.gz' | tar xz\n",
    "```"
   ]
  },
  {
   "cell_type": "code",
   "execution_count": 1,
   "metadata": {},
   "outputs": [],
   "source": [
    "from pathlib import Path\n",
    "\n",
    "import numpy as np\n",
    "import pandas as pd\n",
    "\n",
    "from loguru import logger\n",
    "from joblib import Parallel, delayed\n",
    "\n",
    "from graphqa.data.aminoacids import *\n",
    "import graphqa.data.cadscore as cadscore, CadScoreError"
   ]
  },
  {
   "cell_type": "raw",
   "metadata": {},
   "source": [
    "! rm CASP*/decoys/*.cad.npz"
   ]
  },
  {
   "cell_type": "code",
   "execution_count": 2,
   "metadata": {},
   "outputs": [],
   "source": [
    "df_natives = pd.read_csv(\"natives_casp.csv\")\n",
    "target_lengths = pd.read_csv(\"sequences.csv\").set_index(\"target_id\")[\"length\"].to_dict()"
   ]
  },
  {
   "cell_type": "code",
   "execution_count": 3,
   "metadata": {},
   "outputs": [
    {
     "name": "stderr",
     "output_type": "stream",
     "text": [
      "[Parallel(n_jobs=20)]: Using backend ThreadingBackend with 20 concurrent workers.\n",
      "2020-04-03 11:58:18.527 | WARNING  | __main__:compute_and_save_cad:11 - No decoy was successfully evaluated for CASP11/native/T0825.pdb\n",
      "[Parallel(n_jobs=20)]: Done   1 out of   1 | elapsed: 12.4min finished\n"
     ]
    }
   ],
   "source": [
    "@logger.catch(reraise=False)\n",
    "def compute_and_save_cad(\n",
    "    native_path: str, decoys_dir: str, output_path: str, sequence_length: int\n",
    "):\n",
    "    try:\n",
    "        run_cadscore(\n",
    "            native_path, decoys_dir, sequence_length,\n",
    "            voronota=\"voronota_1.21.2744/voronota-cadscore\"\n",
    "        )\n",
    "    except CadScoreError as e:\n",
    "        logger.warning(e)\n",
    "\n",
    "\n",
    "with Parallel(n_jobs=20, verbose=1, prefer=\"threads\") as pool:\n",
    "    missing_targets = [\n",
    "        dict(\n",
    "            native_path=f\"CASP{target.casp_ed}/native/{target.target_id}.pdb\",\n",
    "            decoys_dir=f\"CASP{target.casp_ed}/decoys/{target.target_id}\",\n",
    "            output_path=f\"CASP{target.casp_ed}/decoys/{target.target_id}.cad.npz\",\n",
    "            sequence_length=target_lengths[target.target_id],\n",
    "        )\n",
    "        for target in df_natives.itertuples()\n",
    "        if not Path(f\"CASP{target.casp_ed}/decoys/{target.target_id}.cad.npz\").is_file()\n",
    "    ]\n",
    "    pool(\n",
    "        delayed(compute_and_save_cad)(**target_dict) for target_dict in missing_targets\n",
    "    )"
   ]
  },
  {
   "cell_type": "code",
   "execution_count": 4,
   "metadata": {},
   "outputs": [
    {
     "name": "stderr",
     "output_type": "stream",
     "text": [
      "2020-04-03 11:58:18.560 | WARNING  | __main__:<module>:8 - CAD score failed on 1 targets\n",
      "2020-04-03 11:58:18.561 | WARNING  | __main__:<module>:11 - CAD score failed on: T0825\n"
     ]
    }
   ],
   "source": [
    "pdb = set(p.with_suffix(\"\").name for p in Path().glob(\"CASP*/native/*.pdb\"))\n",
    "cad = set(\n",
    "    p.with_suffix(\"\").with_suffix(\"\").name\n",
    "    for p in Path().glob(\"CASP*/decoys/*.cad.npz\")\n",
    ")\n",
    "failed = pdb - cad\n",
    "if failed:\n",
    "    logger.warning(f\"CAD score failed on {len(failed)} targets\")\n",
    "    if len(failed) < 20:\n",
    "        for f in failed:\n",
    "            logger.warning(f\"CAD score failed on: {f}\")\n",
    "\n",
    "for p in Path().glob(\"CASP*/decoys/*.cad.npz\"):\n",
    "    count = len(np.load(p)[\"decoys\"])\n",
    "    if count < 20:\n",
    "        logger.warning(f\"{p} contains {count} decoys\")"
   ]
  }
 ],
 "metadata": {
  "jupytext": {
   "formats": "ipynb,py:percent"
  },
  "kernelspec": {
   "display_name": "Python 3",
   "language": "python",
   "name": "python3"
  },
  "language_info": {
   "codemirror_mode": {
    "name": "ipython",
    "version": 3
   },
   "file_extension": ".py",
   "mimetype": "text/x-python",
   "name": "python",
   "nbconvert_exporter": "python",
   "pygments_lexer": "ipython3",
   "version": "3.8.1"
  }
 },
 "nbformat": 4,
 "nbformat_minor": 4
}
