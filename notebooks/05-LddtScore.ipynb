{
 "cells": [
  {
   "cell_type": "markdown",
   "metadata": {},
   "source": [
    "# LDDT\n",
    "\n",
    "We use a docker container with [OpenStructure (v2.1.0)](https://git.scicore.unibas.ch/schwede/openstructure/-/tree/master/docker) for computing LDDT scores.\n",
    "\n",
    "Inside the container we run a custom python script adapted from one of the examples on the website.\n",
    "\n",
    "LDDT scores, both global and local will be saved as a `CASP*/decoys/<target_id>.lddt.npz` file containing:\n",
    "- `decoys`: 1D array of decoy names\n",
    "- `global_lddt`: 1D array of global scores\n",
    "- `local_lddt`: 2D array of local scores of shape `num_decoys x seq_length`"
   ]
  },
  {
   "cell_type": "code",
   "execution_count": 1,
   "metadata": {},
   "outputs": [],
   "source": [
    "from pathlib import Path\n",
    "\n",
    "import docker\n",
    "import numpy as np\n",
    "import pandas as pd\n",
    "\n",
    "from loguru import logger\n",
    "from joblib import Parallel, delayed\n",
    "\n",
    "from graphqa.data.aminoacids import *\n",
    "\n",
    "docker_client = docker.from_env()"
   ]
  },
  {
   "cell_type": "markdown",
   "metadata": {},
   "source": [
    "Pull the [OpenStructure](https://www.openstructure.org/docs/2.0/install/) docker image and start a container with the LDDT python script mounted inside:"
   ]
  },
  {
   "cell_type": "code",
   "execution_count": 2,
   "metadata": {},
   "outputs": [
    {
     "name": "stdout",
     "output_type": "stream",
     "text": [
      "2.1.0: Pulling from schwede/openstructure\n",
      "Digest: sha256:501789035234406f903fb3633e0cda07176704de2e181c4828ba6833e42b46db\n",
      "Status: Image is up to date for registry.scicore.unibas.ch/schwede/openstructure:2.1.0\n",
      "95580d6ac8cb057d2f3cf72d0cdb317f139e243e7248fcd868ab8390164c0cae\n",
      "CONTAINER ID        IMAGE                                                    COMMAND             CREATED             STATUS                  PORTS               NAMES\n",
      "95580d6ac8cb        registry.scicore.unibas.ch/schwede/openstructure:2.1.0   \"bash\"              1 second ago        Up Less than a second                       lddt\n"
     ]
    }
   ],
   "source": [
    "%%bash\n",
    "docker pull 'registry.scicore.unibas.ch/schwede/openstructure:2.1.0'\n",
    "docker stop lddt 2> /dev/null\n",
    "docker run --rm --tty --detach \\\n",
    "  --name 'lddt' \\\n",
    "  --entrypoint 'bash' \\\n",
    "  --mount \"type=bind,source=$(realpath ../src/graphqa/data/lddt_docker.py),target=/lddt.py\" \\\n",
    "  --mount \"type=bind,source=$(realpath ../data),target=/native\" \\\n",
    "  --mount \"type=bind,source=$(realpath ../data),target=/decoy\" \\\n",
    "  --mount \"type=bind,source=$(realpath ../data),target=/output\" \\\n",
    "  'registry.scicore.unibas.ch/schwede/openstructure:2.1.0'\n",
    "docker ps --filter \"name=lddt\""
   ]
  },
  {
   "cell_type": "code",
   "execution_count": 3,
   "metadata": {},
   "outputs": [],
   "source": [
    "lddt_container = docker_client.containers.get(\"lddt\")\n",
    "df_natives = pd.read_csv(\"natives_casp.csv\")\n",
    "target_lengths = pd.read_csv(\"sequences.csv\").set_index(\"target_id\").length.to_dict()"
   ]
  },
  {
   "cell_type": "code",
   "execution_count": null,
   "metadata": {},
   "outputs": [],
   "source": [
    "def run_lddt_in_docker(seq_len, native_path, decoys_dir, output_path):\n",
    "    exit_code, (stdout, stderr) = lddt_container.exec_run(\n",
    "        cmd=[\"/lddt.py\", str(seq_len), native_path, decoys_dir, output_path], demux=True\n",
    "    )\n",
    "\n",
    "    if exit_code != 0:\n",
    "        logger.error(f\"LDDT error {native_path}: {stderr.decode()}\")\n",
    "\n",
    "\n",
    "with Parallel(n_jobs=10, prefer=\"threads\") as pool:\n",
    "    missing_targets = [\n",
    "        dict(\n",
    "            seq_len=target_lengths[target.target_id],\n",
    "            native_path=f\"CASP{target.casp_ed}/native/{target.target_id}.pdb\",\n",
    "            decoys_dir=f\"CASP{target.casp_ed}/decoys/{target.target_id}\",\n",
    "            output_path=f\"CASP{target.casp_ed}/decoys/{target.target_id}.lddt.npz\",\n",
    "        )\n",
    "        for target in df_natives.itertuples()\n",
    "        if not Path(\n",
    "            f\"CASP{target.casp_ed}/decoys/{target.target_id}.lddt.npz\"\n",
    "        ).is_file()\n",
    "    ]\n",
    "    logger.info(f\"Launching {len(missing_targets)} jobs\")\n",
    "    pool(delayed(run_lddt_in_docker)(**target_dict) for target_dict in missing_targets)"
   ]
  },
  {
   "cell_type": "code",
   "execution_count": 5,
   "metadata": {},
   "outputs": [
    {
     "name": "stderr",
     "output_type": "stream",
     "text": [
      "2020-09-21 22:54:41.712 | WARNING  | __main__:<module>:4 - LDDT failed on: T0829\n",
      "2020-09-21 22:54:41.713 | WARNING  | __main__:<module>:4 - LDDT failed on: T0629\n",
      "2020-09-21 22:54:41.714 | WARNING  | __main__:<module>:4 - LDDT failed on: T0517\n",
      "2020-09-21 22:54:41.715 | WARNING  | __main__:<module>:4 - LDDT failed on: T0843\n",
      "2020-09-21 22:54:41.715 | WARNING  | __main__:<module>:4 - LDDT failed on: T0805\n",
      "2020-09-21 22:54:41.716 | WARNING  | __main__:<module>:4 - LDDT failed on: T0845\n",
      "2020-09-21 22:54:41.717 | WARNING  | __main__:<module>:4 - LDDT failed on: T0622\n",
      "2020-09-21 22:54:41.718 | WARNING  | __main__:<module>:4 - LDDT failed on: T0851\n",
      "2020-09-21 22:54:41.718 | WARNING  | __main__:<module>:4 - LDDT failed on: T0801\n",
      "2020-09-21 22:54:41.719 | WARNING  | __main__:<module>:4 - LDDT failed on: T0786\n",
      "2020-09-21 22:54:41.720 | WARNING  | __main__:<module>:4 - LDDT failed on: T0798\n",
      "2020-09-21 22:54:41.721 | WARNING  | __main__:<module>:4 - LDDT failed on: T0783\n"
     ]
    }
   ],
   "source": [
    "pdb = set(p.with_suffix(\"\").name for p in Path().glob(\"CASP*/native/*.pdb\"))\n",
    "lddt = set(p.with_suffix(\"\").with_suffix(\"\").name for p in Path().glob(\"CASP*/decoys/*.lddt.npz\"))\n",
    "for fail in pdb - lddt:\n",
    "    logger.warning(f\"LDDT failed on: {fail}\")"
   ]
  },
  {
   "cell_type": "code",
   "execution_count": 6,
   "metadata": {},
   "outputs": [
    {
     "name": "stdout",
     "output_type": "stream",
     "text": [
      "lddt\n"
     ]
    }
   ],
   "source": [
    "%%bash\n",
    "docker stop lddt"
   ]
  }
 ],
 "metadata": {
  "jupytext": {
   "cell_metadata_json": true,
   "formats": "ipynb,py:percent"
  },
  "kernelspec": {
   "display_name": "Python 3",
   "language": "python",
   "name": "python3"
  },
  "language_info": {
   "codemirror_mode": {
    "name": "ipython",
    "version": 3
   },
   "file_extension": ".py",
   "mimetype": "text/x-python",
   "name": "python",
   "nbconvert_exporter": "python",
   "pygments_lexer": "ipython3",
   "version": "3.8.5"
  }
 },
 "nbformat": 4,
 "nbformat_minor": 4
}
