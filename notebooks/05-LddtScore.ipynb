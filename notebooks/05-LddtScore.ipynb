{
 "cells": [
  {
   "cell_type": "markdown",
   "metadata": {},
   "source": [
    "# LDDT\n",
    "\n",
    "We use a docker container with [OpenStructure (v2.1.0)](https://git.scicore.unibas.ch/schwede/openstructure/-/tree/master/docker) for computing LDDT scores.\n",
    "\n",
    "Inside the container we run a custom python script adapted from one of the examples on the website.\n",
    "\n",
    "LDDT scores, both global and local will be saved as a `CASP*/decoys/<target_id>.lddt.npz` file containing:\n",
    "- `decoys`: 1D array of decoy names\n",
    "- `global_lddt`: 1D array of global scores\n",
    "- `local_lddt`: 2D array of local scores of shape `num_decoys x seq_length`"
   ]
  },
  {
   "cell_type": "code",
   "execution_count": null,
   "metadata": {},
   "outputs": [],
   "source": [
    "from pathlib import Path\n",
    "\n",
    "import docker\n",
    "import numpy as np\n",
    "import pandas as pd\n",
    "\n",
    "from loguru import logger\n",
    "from joblib import Parallel, delayed\n",
    "\n",
    "from graphqa.data.aminoacids import *\n",
    "\n",
    "docker_client = docker.from_env()"
   ]
  },
  {
   "cell_type": "markdown",
   "metadata": {},
   "source": [
    "Pull the [OpenStructure](https://www.openstructure.org/docs/2.0/install/) docker image and start a container with the LDDT python script mounted inside:"
   ]
  },
  {
   "cell_type": "code",
   "execution_count": 466,
   "metadata": {},
   "outputs": [
    {
     "name": "stdout",
     "output_type": "stream",
     "text": [
      "registry.scicore.unibas.ch/schwede/openstructure:2.0.0\n",
      "3cdcc9fc53e850f00fad94b3fe431125742cca961af4b032d46a6ce492e6b045\n",
      "CONTAINER ID        IMAGE                                                    COMMAND             CREATED             STATUS                  PORTS               NAMES\n",
      "3cdcc9fc53e8        registry.scicore.unibas.ch/schwede/openstructure:2.0.0   \"bash\"              1 second ago        Up Less than a second                       lddt\n"
     ]
    }
   ],
   "source": [
    "%%bash\n",
    "docker pull -q 'registry.scicore.unibas.ch/schwede/openstructure:2.1.0'\n",
    "docker stop lddt 2> /dev/null\n",
    "docker run --rm --tty --detach \\\n",
    "  --name 'lddt' \\\n",
    "  --entrypoint 'bash' \\\n",
    "  --mount \"type=bind,source=$(realpath ../src/graphqa/data/lddt_docker.py),target=/lddt.py\" \\\n",
    "  --mount \"type=bind,source=${PWD},target=/input\" \\\n",
    "  --mount \"type=bind,source=${PWD},target=/output\" \\\n",
    "  'registry.scicore.unibas.ch/schwede/openstructure:2.0.0'\n",
    "docker ps --filter \"name=lddt\""
   ]
  },
  {
   "cell_type": "code",
   "execution_count": 467,
   "metadata": {},
   "outputs": [],
   "source": [
    "lddt_container = docker_client.containers.get(\"lddt\")\n",
    "df_natives = pd.read_csv(\"natives_casp.csv\")\n",
    "target_lengths = pd.read_csv(\"sequences.csv\").set_index(\"target_id\").length.to_dict()"
   ]
  },
  {
   "cell_type": "code",
   "execution_count": 468,
   "metadata": {},
   "outputs": [
    {
     "name": "stderr",
     "output_type": "stream",
     "text": [
      "2020-04-01 11:21:56.793 | INFO     | __main__:<module>:21 - Launching 12 jobs\n",
      "2020-04-01 11:22:15.016 | ERROR    | __main__:run_lddt_in_docker:14 - LDDT error CASP11/native/T0829.pdb: Traceback (most recent call last):\n",
      "  File \"/lddt.py\", line 58, in <module>\n",
      "    model = LoadPDB(model_path.resolve().as_posix())\n",
      "  File \"/usr/local/lib64/python3.6/site-packages/ost/io/__init__.py\", line 175, in LoadPDB\n",
      "    reader.Import(ent, restrict_chains)\n",
      "Exception: duplicate atom 'C2' in residue DG71\n",
      "\n",
      "2020-04-01 11:23:00.421 | ERROR    | __main__:run_lddt_in_docker:14 - LDDT error CASP11/native/T0805.pdb: Traceback (most recent call last):\n",
      "  File \"/lddt.py\", line 58, in <module>\n",
      "    model = LoadPDB(model_path.resolve().as_posix())\n",
      "  File \"/usr/local/lib64/python3.6/site-packages/ost/io/__init__.py\", line 175, in LoadPDB\n",
      "    reader.Import(ent, restrict_chains)\n",
      "Exception: duplicate atom 'C2' in residue FMN225\n",
      "\n",
      "2020-04-01 11:23:08.271 | ERROR    | __main__:run_lddt_in_docker:14 - LDDT error CASP11/native/T0798.pdb: Traceback (most recent call last):\n",
      "  File \"/lddt.py\", line 58, in <module>\n",
      "    model = LoadPDB(model_path.resolve().as_posix())\n",
      "  File \"/usr/local/lib64/python3.6/site-packages/ost/io/__init__.py\", line 175, in LoadPDB\n",
      "    reader.Import(ent, restrict_chains)\n",
      "Exception: duplicate atom 'C2' in residue GDP207\n",
      "\n",
      "2020-04-01 11:23:10.735 | ERROR    | __main__:run_lddt_in_docker:14 - LDDT error CASP11/native/T0786.pdb: Traceback (most recent call last):\n",
      "  File \"/lddt.py\", line 58, in <module>\n",
      "    model = LoadPDB(model_path.resolve().as_posix())\n",
      "  File \"/usr/local/lib64/python3.6/site-packages/ost/io/__init__.py\", line 175, in LoadPDB\n",
      "    reader.Import(ent, restrict_chains)\n",
      "Exception: duplicate atom 'C2' in residue AMP278\n",
      "\n",
      "2020-04-01 11:23:24.883 | ERROR    | __main__:run_lddt_in_docker:14 - LDDT error CASP9/native/T0629.pdb: Traceback (most recent call last):\n",
      "  File \"/lddt.py\", line 58, in <module>\n",
      "    model = LoadPDB(model_path.resolve().as_posix())\n",
      "  File \"/usr/local/lib64/python3.6/site-packages/ost/io/__init__.py\", line 175, in LoadPDB\n",
      "    reader.Import(ent, restrict_chains)\n",
      "Exception: invalid coordinate on line 5\n",
      "\n",
      "2020-04-01 11:24:03.611 | ERROR    | __main__:run_lddt_in_docker:14 - LDDT error CASP9/native/T0622.pdb: Traceback (most recent call last):\n",
      "  File \"/lddt.py\", line 58, in <module>\n",
      "    model = LoadPDB(model_path.resolve().as_posix())\n",
      "  File \"/usr/local/lib64/python3.6/site-packages/ost/io/__init__.py\", line 175, in LoadPDB\n",
      "    reader.Import(ent, restrict_chains)\n",
      "Exception: invalid coordinate on line 5\n",
      "\n",
      "2020-04-01 11:24:06.425 | ERROR    | __main__:run_lddt_in_docker:14 - LDDT error CASP11/native/T0801.pdb: Traceback (most recent call last):\n",
      "  File \"/lddt.py\", line 58, in <module>\n",
      "    model = LoadPDB(model_path.resolve().as_posix())\n",
      "  File \"/usr/local/lib64/python3.6/site-packages/ost/io/__init__.py\", line 175, in LoadPDB\n",
      "    reader.Import(ent, restrict_chains)\n",
      "Exception: duplicate atom 'C2' in residue G4M385\n",
      "\n",
      "2020-04-01 11:24:08.344 | ERROR    | __main__:run_lddt_in_docker:14 - LDDT error CASP11/native/T0783.pdb: Traceback (most recent call last):\n",
      "  File \"/lddt.py\", line 58, in <module>\n",
      "    model = LoadPDB(model_path.resolve().as_posix())\n",
      "  File \"/usr/local/lib64/python3.6/site-packages/ost/io/__init__.py\", line 175, in LoadPDB\n",
      "    reader.Import(ent, restrict_chains)\n",
      "Exception: duplicate atom 'C2' in residue CTP412\n",
      "\n",
      "2020-04-01 11:24:18.512 | ERROR    | __main__:run_lddt_in_docker:14 - LDDT error CASP11/native/T0843.pdb: Traceback (most recent call last):\n",
      "  File \"/lddt.py\", line 58, in <module>\n",
      "    model = LoadPDB(model_path.resolve().as_posix())\n",
      "  File \"/usr/local/lib64/python3.6/site-packages/ost/io/__init__.py\", line 175, in LoadPDB\n",
      "    reader.Import(ent, restrict_chains)\n",
      "Exception: duplicate atom 'P' in residue PLP381\n",
      "\n",
      "2020-04-01 11:24:27.457 | ERROR    | __main__:run_lddt_in_docker:14 - LDDT error CASP11/native/T0845.pdb: Traceback (most recent call last):\n",
      "  File \"/lddt.py\", line 58, in <module>\n",
      "    model = LoadPDB(model_path.resolve().as_posix())\n",
      "  File \"/usr/local/lib64/python3.6/site-packages/ost/io/__init__.py\", line 175, in LoadPDB\n",
      "    reader.Import(ent, restrict_chains)\n",
      "Exception: duplicate atom 'CAA' in residue DHE456\n",
      "\n",
      "2020-04-01 11:24:49.162 | ERROR    | __main__:run_lddt_in_docker:14 - LDDT error CASP9/native/T0517.pdb: Traceback (most recent call last):\n",
      "  File \"/lddt.py\", line 58, in <module>\n",
      "    model = LoadPDB(model_path.resolve().as_posix())\n",
      "  File \"/usr/local/lib64/python3.6/site-packages/ost/io/__init__.py\", line 175, in LoadPDB\n",
      "    reader.Import(ent, restrict_chains)\n",
      "Exception: invalid coordinate on line 5\n",
      "\n",
      "2020-04-01 11:24:59.810 | ERROR    | __main__:run_lddt_in_docker:14 - LDDT error CASP11/native/T0851.pdb: Traceback (most recent call last):\n",
      "  File \"/lddt.py\", line 58, in <module>\n",
      "    model = LoadPDB(model_path.resolve().as_posix())\n",
      "  File \"/usr/local/lib64/python3.6/site-packages/ost/io/__init__.py\", line 175, in LoadPDB\n",
      "    reader.Import(ent, restrict_chains)\n",
      "Exception: duplicate atom 'C2' in residue UPG461\n",
      "\n",
      "2020-04-01 11:24:59.817 | WARNING  | __main__:<module>:36 - LDDT failed on: T0843\n",
      "2020-04-01 11:24:59.817 | WARNING  | __main__:<module>:36 - LDDT failed on: T0798\n",
      "2020-04-01 11:24:59.818 | WARNING  | __main__:<module>:36 - LDDT failed on: T0845\n",
      "2020-04-01 11:24:59.818 | WARNING  | __main__:<module>:36 - LDDT failed on: T0622\n",
      "2020-04-01 11:24:59.818 | WARNING  | __main__:<module>:36 - LDDT failed on: T0629\n",
      "2020-04-01 11:24:59.819 | WARNING  | __main__:<module>:36 - LDDT failed on: T0805\n",
      "2020-04-01 11:24:59.819 | WARNING  | __main__:<module>:36 - LDDT failed on: T0517\n",
      "2020-04-01 11:24:59.820 | WARNING  | __main__:<module>:36 - LDDT failed on: T0786\n",
      "2020-04-01 11:24:59.820 | WARNING  | __main__:<module>:36 - LDDT failed on: T0851\n",
      "2020-04-01 11:24:59.821 | WARNING  | __main__:<module>:36 - LDDT failed on: T0783\n",
      "2020-04-01 11:24:59.821 | WARNING  | __main__:<module>:36 - LDDT failed on: T0829\n",
      "2020-04-01 11:24:59.822 | WARNING  | __main__:<module>:36 - LDDT failed on: T0801\n"
     ]
    }
   ],
   "source": [
    "def run_lddt_in_docker(seq_len, native_path, decoys_dir, output_path):\n",
    "    exit_code, (stdout, stderr) = lddt_container.exec_run(\n",
    "        cmd=[\"/lddt.py\", str(seq_len), native_path, decoys_dir, output_path], demux=True\n",
    "    )\n",
    "\n",
    "    if exit_code != 0:\n",
    "        logger.error(f\"LDDT error {native_path}: {stderr.decode()}\")\n",
    "\n",
    "\n",
    "with Parallel(n_jobs=10, prefer=\"threads\") as pool:\n",
    "    missing_targets = [\n",
    "        dict(\n",
    "            seq_len=target_lengths[target.target_id],\n",
    "            native_path=f\"CASP{target.casp_ed}/native/{target.target_id}.pdb\",\n",
    "            decoys_dir=f\"CASP{target.casp_ed}/decoys/{target.target_id}\",\n",
    "            output_path=f\"CASP{target.casp_ed}/decoys/{target.target_id}.lddt.npz\",\n",
    "        )\n",
    "        for target in df_natives.itertuples()\n",
    "        if not Path(\n",
    "            f\"CASP{target.casp_ed}/decoys/{target.target_id}.lddt.npz\"\n",
    "        ).is_file()\n",
    "    ]\n",
    "    logger.info(f\"Launching {len(missing_targets)} jobs\")\n",
    "    pool(delayed(run_lddt_in_docker)(target_dict) for target_dict in missing_targets)\n",
    "\n",
    "pdb = set(p.with_suffix(\"\").name for p in Path().glob(\"CASP*/native/*.pdb\"))\n",
    "lddt = set(p.with_suffix(\"\").name for p in Path().glob(\"CASP*/decoys/*.lddt.npz\"))\n",
    "for fail in pdb - lddt:\n",
    "    logger.warning(f\"LDDT failed on: {fail}\")"
   ]
  },
  {
   "cell_type": "code",
   "execution_count": 469,
   "metadata": {},
   "outputs": [
    {
     "name": "stdout",
     "output_type": "stream",
     "text": [
      "lddt\n"
     ]
    }
   ],
   "source": [
    "%%bash\n",
    "docker stop lddt"
   ]
  }
 ],
 "metadata": {
  "jupytext": {
   "cell_metadata_json": true,
   "formats": "ipynb,py:percent"
  },
  "kernelspec": {
   "display_name": "Python 3",
   "language": "python",
   "name": "python3"
  },
  "language_info": {
   "codemirror_mode": {
    "name": "ipython",
    "version": 3
   },
   "file_extension": ".py",
   "mimetype": "text/x-python",
   "name": "python",
   "nbconvert_exporter": "python",
   "pygments_lexer": "ipython3",
   "version": "3.8.1"
  }
 },
 "nbformat": 4,
 "nbformat_minor": 4
}
