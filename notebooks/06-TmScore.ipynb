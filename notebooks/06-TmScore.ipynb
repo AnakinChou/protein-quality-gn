{
 "cells": [
  {
   "cell_type": "markdown",
   "metadata": {},
   "source": [
    "# TM_Score, GDT_TS, GDT_HA\n",
    "\n",
    "TM_Score, GDT_TS, GDT_HA scores will be saved as `CASP*/decoys/<target_id>.tmscore.npz`, one per target.\n",
    "\n",
    "Download and compile the TMscore executable from [Zhang lab](https://zhanglab.ccmb.med.umich.edu/TM-score/):\n",
    "```bash\n",
    "wget -q 'https://zhanglab.ccmb.med.umich.edu/TM-score/TMscore.cpp'\n",
    "g++ -static -O3 -ffast-math -lm -o TMscore TMscore.cpp\n",
    "rm TMscore.cpp\n",
    "```"
   ]
  },
  {
   "cell_type": "code",
   "execution_count": 1,
   "metadata": {},
   "outputs": [],
   "source": [
    "from pathlib import Path\n",
    "\n",
    "import numpy as np\n",
    "import pandas as pd\n",
    "\n",
    "from loguru import logger\n",
    "from joblib import Parallel, delayed\n",
    "\n",
    "from graphqa.data.aminoacids import *\n",
    "from graphqa.data.tmscore import run_tmscore, TmScoreError"
   ]
  },
  {
   "cell_type": "markdown",
   "metadata": {},
   "source": [
    "Run in parallel on all targets of all CASP editions"
   ]
  },
  {
   "cell_type": "code",
   "execution_count": null,
   "metadata": {},
   "outputs": [],
   "source": [
    "@logger.catch(reraise=False)\n",
    "def compute_and_save_tm(native_pdb: str, decoys_dir: str, output_npz: str):\n",
    "    try:\n",
    "        run_tmscore(native_pdb, decoys_dir, output_npz, tmscore=\"./TMscore\")\n",
    "    except TmScoreError as e:\n",
    "        logger.warning(e)\n",
    "\n",
    "\n",
    "df_natives = pd.read_csv(\"natives_casp.csv\")\n",
    "with Parallel(n_jobs=30, verbose=1, prefer=\"threads\") as pool:\n",
    "    missing_targets = [\n",
    "        dict(\n",
    "            native_pdb=f\"CASP{target.casp_ed}/native/{target.target_id}.pdb\",\n",
    "            decoys_dir=f\"CASP{target.casp_ed}/decoys/{target.target_id}\",\n",
    "            output_npz=f\"CASP{target.casp_ed}/decoys/{target.target_id}.tmscore.npz\",\n",
    "        )\n",
    "        for target in df_natives.itertuples()\n",
    "        if not Path(\n",
    "            f\"CASP{target.casp_ed}/decoys/{target.target_id}.tmscore.npz\"\n",
    "        ).is_file()\n",
    "    ]\n",
    "    pool(delayed(compute_and_save_tm)(**target_dict) for target_dict in missing_targets)"
   ]
  },
  {
   "cell_type": "markdown",
   "metadata": {},
   "source": [
    "Check how many targets failed"
   ]
  },
  {
   "cell_type": "code",
   "execution_count": 3,
   "metadata": {},
   "outputs": [
    {
     "name": "stderr",
     "output_type": "stream",
     "text": [
      "2020-09-21 23:03:55.748 | WARNING  | __main__:<module>:9 - TMscore failed on 28 targets\n",
      "2020-09-21 23:03:55.749 | WARNING  | __main__:<module>:12 - TMscore failed on: T0589\n",
      "2020-09-21 23:03:55.750 | WARNING  | __main__:<module>:12 - TMscore failed on: T0966\n",
      "2020-09-21 23:03:55.751 | WARNING  | __main__:<module>:12 - TMscore failed on: T0981\n",
      "2020-09-21 23:03:55.752 | WARNING  | __main__:<module>:12 - TMscore failed on: T0532\n",
      "2020-09-21 23:03:55.752 | WARNING  | __main__:<module>:12 - TMscore failed on: T0517\n",
      "2020-09-21 23:03:55.753 | WARNING  | __main__:<module>:12 - TMscore failed on: T0607\n",
      "2020-09-21 23:03:55.754 | WARNING  | __main__:<module>:12 - TMscore failed on: T0984\n",
      "2020-09-21 23:03:55.754 | WARNING  | __main__:<module>:12 - TMscore failed on: T0658\n",
      "2020-09-21 23:03:55.755 | WARNING  | __main__:<module>:12 - TMscore failed on: T0529\n",
      "2020-09-21 23:03:55.756 | WARNING  | __main__:<module>:12 - TMscore failed on: T0542\n",
      "2020-09-21 23:03:55.757 | WARNING  | __main__:<module>:12 - TMscore failed on: T0817\n",
      "2020-09-21 23:03:55.757 | WARNING  | __main__:<module>:12 - TMscore failed on: T0622\n",
      "2020-09-21 23:03:55.758 | WARNING  | __main__:<module>:12 - TMscore failed on: T0985\n",
      "2020-09-21 23:03:55.759 | WARNING  | __main__:<module>:12 - TMscore failed on: T0996\n",
      "2020-09-21 23:03:55.759 | WARNING  | __main__:<module>:12 - TMscore failed on: T0719\n",
      "2020-09-21 23:03:55.760 | WARNING  | __main__:<module>:12 - TMscore failed on: T0999\n",
      "2020-09-21 23:03:55.761 | WARNING  | __main__:<module>:12 - TMscore failed on: T0629\n",
      "2020-09-21 23:03:55.762 | WARNING  | __main__:<module>:12 - TMscore failed on: T0830\n",
      "2020-09-21 23:03:55.762 | WARNING  | __main__:<module>:12 - TMscore failed on: T0604\n",
      "2020-09-21 23:03:55.763 | WARNING  | __main__:<module>:12 - TMscore failed on: T0977\n",
      "2020-09-21 23:03:55.764 | WARNING  | __main__:<module>:12 - TMscore failed on: T0840\n",
      "2020-09-21 23:03:55.764 | WARNING  | __main__:<module>:12 - TMscore failed on: T0547\n",
      "2020-09-21 23:03:55.765 | WARNING  | __main__:<module>:12 - TMscore failed on: T0726\n",
      "2020-09-21 23:03:55.766 | WARNING  | __main__:<module>:12 - TMscore failed on: T0994\n",
      "2020-09-21 23:03:55.766 | WARNING  | __main__:<module>:12 - TMscore failed on: T0912\n",
      "2020-09-21 23:03:55.767 | WARNING  | __main__:<module>:12 - TMscore failed on: T0990\n",
      "2020-09-21 23:03:55.768 | WARNING  | __main__:<module>:12 - TMscore failed on: T0543\n",
      "2020-09-21 23:03:55.768 | WARNING  | __main__:<module>:12 - TMscore failed on: T1009\n",
      "2020-09-21 23:03:55.858 | WARNING  | __main__:<module>:17 - CASP10/decoys/T0754.tmscore.npz contains 0 decoys\n",
      "2020-09-21 23:03:55.885 | WARNING  | __main__:<module>:17 - CASP10/decoys/T0675.tmscore.npz contains 0 decoys\n",
      "2020-09-21 23:03:55.895 | WARNING  | __main__:<module>:17 - CASP10/decoys/T0677.tmscore.npz contains 0 decoys\n"
     ]
    }
   ],
   "source": [
    "pdb = set(p.with_suffix(\"\").name for p in Path().glob(\"CASP*/native/*.pdb\"))\n",
    "tmscore = set(\n",
    "    p.with_suffix(\"\").with_suffix(\"\").name\n",
    "    for p in Path().glob(\"CASP*/decoys/*.tmscore.npz\")\n",
    ")\n",
    "failed = pdb - tmscore\n",
    "\n",
    "if len(failed) > 0:\n",
    "    logger.warning(f\"TMscore failed on {len(failed)} targets\")\n",
    "    if len(failed) < 30:\n",
    "        for f in failed:\n",
    "            logger.warning(f\"TMscore failed on: {f}\")\n",
    "\n",
    "for p in Path().glob(\"CASP*/decoys/*.tmscore.npz\"):\n",
    "    count = len(np.load(p)[\"decoys\"])\n",
    "    if count < 20:\n",
    "        logger.warning(f\"{p} contains {count} decoys\")"
   ]
  }
 ],
 "metadata": {
  "jupytext": {
   "formats": "ipynb,py:percent"
  },
  "kernelspec": {
   "display_name": "Python 3",
   "language": "python",
   "name": "python3"
  },
  "language_info": {
   "codemirror_mode": {
    "name": "ipython",
    "version": 3
   },
   "file_extension": ".py",
   "mimetype": "text/x-python",
   "name": "python",
   "nbconvert_exporter": "python",
   "pygments_lexer": "ipython3",
   "version": "3.8.5"
  }
 },
 "nbformat": 4,
 "nbformat_minor": 4
}
