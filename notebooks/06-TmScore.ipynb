{
 "cells": [
  {
   "cell_type": "markdown",
   "metadata": {},
   "source": [
    "# TM_Score, GDT_TS, GDT_HA\n",
    "\n",
    "TM_Score, GDT_TS, GDT_HA scores will be saved as a `CASP*/decoys/<target_id>.tmscore.tsv` file, in tabular format, one row per decoy.\n",
    "\n",
    "Download and compile the TMscore executable from [Zhang lab](https://zhanglab.ccmb.med.umich.edu/TM-score/):\n",
    "```bash\n",
    "wget -q 'https://zhanglab.ccmb.med.umich.edu/TM-score/TMscore.cpp'\n",
    "g++ -static -O3 -ffast-math -lm -o TMscore TMscore.cpp\n",
    "rm TMscore.cpp\n",
    "```"
   ]
  },
  {
   "cell_type": "code",
   "execution_count": null,
   "metadata": {},
   "outputs": [],
   "source": [
    "from pathlib import Path\n",
    "\n",
    "import numpy as np\n",
    "import pandas as pd\n",
    "\n",
    "from loguru import logger\n",
    "from joblib import Parallel, delayed\n",
    "\n",
    "from graphqa.data.aminoacids import *\n",
    "from graphqa.data.tmscore import run_tmscore, TmScoreError"
   ]
  },
  {
   "cell_type": "markdown",
   "metadata": {},
   "source": [
    "Run in parallel on all targets of all CASP editions"
   ]
  },
  {
   "cell_type": "code",
   "execution_count": null,
   "metadata": {},
   "outputs": [],
   "source": [
    "@logger.catch(reraise=False)\n",
    "def compute_and_save_tm(native_path: str, decoys_dir: str, output_path: str):\n",
    "    try:\n",
    "        run_tmscore(native_path, decoys_dir, output_path, tmscore=\"./TMscore\")\n",
    "    except TmScoreError as e:\n",
    "        logger.warning(e)\n",
    "\n",
    "\n",
    "df_natives = pd.read_csv(\"natives_casp.csv\")\n",
    "with Parallel(n_jobs=10, verbose=1, prefer=\"threads\") as pool:\n",
    "    missing_targets = [\n",
    "        dict(\n",
    "            native_pdb=f\"CASP{target.casp_ed}/native/{target.target_id}.pdb\",\n",
    "            decoys_dir=f\"CASP{target.casp_ed}/decoys/{target.target_id}\",\n",
    "            output_npz=f\"CASP{target.casp_ed}/decoys/{target.target_id}.tmscore.npz\",\n",
    "        )\n",
    "        for target in df_natives.itertuples()\n",
    "        if not Path(\n",
    "            f\"CASP{target.casp_ed}/decoys/{target.target_id}.tmscore.npz\"\n",
    "        ).is_file()\n",
    "    ]\n",
    "    pool(delayed(compute_and_save_tm)(**target_dict) for target_dict in missing_targets)"
   ]
  },
  {
   "cell_type": "markdown",
   "metadata": {},
   "source": [
    "Check how many targets failed"
   ]
  },
  {
   "cell_type": "code",
   "execution_count": null,
   "metadata": {},
   "outputs": [],
   "source": [
    "pdb = set(p.with_suffix(\"\").name for p in Path().glob(\"CASP*/native/*.pdb\"))\n",
    "tmscore = set(\n",
    "    p.with_suffix(\"\").with_suffix(\"\").name\n",
    "    for p in Path().glob(\"CASP*/decoys/*.tmscore.npz\")\n",
    ")\n",
    "failed = pdb - tmscore\n",
    "\n",
    "if len(failed) > 0:\n",
    "    logger.warning(f\"TMscore failed on {len(failed)} targets\")\n",
    "    if len(failed) < 20:\n",
    "        for f in failed:\n",
    "            logger.warning(f\"TMscore failed on: {f}\")\n",
    "\n",
    "for p in Path().glob(\"CASP*/decoys/*.tmscore.npz\"):\n",
    "    count = len(np.load(p)[\"decoys\"])\n",
    "    if count < 20:\n",
    "        logger.warning(f\"{p} contains {count} decoys\")"
   ]
  }
 ],
 "metadata": {
  "jupytext": {
   "formats": "ipynb,py:percent"
  },
  "kernelspec": {
   "display_name": "Python 3",
   "language": "python",
   "name": "python3"
  },
  "language_info": {
   "codemirror_mode": {
    "name": "ipython",
    "version": 3
   },
   "file_extension": ".py",
   "mimetype": "text/x-python",
   "name": "python",
   "nbconvert_exporter": "python",
   "pygments_lexer": "ipython3",
   "version": "3.8.1"
  }
 },
 "nbformat": 4,
 "nbformat_minor": 4
}
